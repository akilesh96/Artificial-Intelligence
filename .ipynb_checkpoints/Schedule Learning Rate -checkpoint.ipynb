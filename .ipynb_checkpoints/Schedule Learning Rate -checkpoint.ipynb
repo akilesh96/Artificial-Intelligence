{
 "cells": [
  {
   "cell_type": "markdown",
   "metadata": {},
   "source": [
    "# Time-Based Learning Rate Schedule"
   ]
  },
  {
   "cell_type": "code",
   "execution_count": 1,
   "metadata": {},
   "outputs": [],
   "source": [
    "import numpy, pandas\n",
    "from keras.models import Sequential\n",
    "from keras.layers import Dense\n",
    "from keras.optimizers import SGD"
   ]
  },
  {
   "cell_type": "code",
   "execution_count": 12,
   "metadata": {},
   "outputs": [],
   "source": [
    "seed = 7\n",
    "numpy.random.seed(seed)"
   ]
  },
  {
   "cell_type": "code",
   "execution_count": 13,
   "metadata": {},
   "outputs": [],
   "source": [
    "# loading dataset\n",
    "dataframe = pandas.read_csv(\"datasets/ionosphere.csv\", header=None)\n",
    "dataset = dataframe.values\n",
    "# split into X and y\n",
    "X = dataset[:,:34].astype(float)\n",
    "y = dataset[:,34]"
   ]
  },
  {
   "cell_type": "code",
   "execution_count": 14,
   "metadata": {},
   "outputs": [],
   "source": [
    "from sklearn.preprocessing import LabelEncoder\n",
    "encoder = LabelEncoder()\n",
    "encoder.fit(y)\n",
    "encoded_y = encoder.transform(y)"
   ]
  },
  {
   "cell_type": "code",
   "execution_count": 15,
   "metadata": {},
   "outputs": [],
   "source": [
    "model = Sequential()\n",
    "model.add(Dense(34, input_dim=34, kernel_initializer='normal', activation='relu'))\n",
    "model.add(Dense(1, kernel_initializer=\"normal\", activation=\"sigmoid\"))\n",
    "learning_rate = 0.1\n",
    "momentum = 0.8\n",
    "epochs = 50\n",
    "decay = learning_rate/epochs\n",
    "sgd = SGD(learning_rate=learning_rate, momentum=momentum, decay=decay)\n",
    "model.compile(loss=\"binary_crossentropy\", optimizer=sgd, metrics=[\"accuracy\"])"
   ]
  },
  {
   "cell_type": "code",
   "execution_count": 16,
   "metadata": {},
   "outputs": [
    {
     "name": "stdout",
     "output_type": "stream",
     "text": [
      "Model: \"sequential_2\"\n",
      "_________________________________________________________________\n",
      "Layer (type)                 Output Shape              Param #   \n",
      "=================================================================\n",
      "dense_4 (Dense)              (None, 34)                1190      \n",
      "_________________________________________________________________\n",
      "dense_5 (Dense)              (None, 1)                 35        \n",
      "=================================================================\n",
      "Total params: 1,225\n",
      "Trainable params: 1,225\n",
      "Non-trainable params: 0\n",
      "_________________________________________________________________\n"
     ]
    }
   ],
   "source": [
    "model.summary()"
   ]
  },
  {
   "cell_type": "code",
   "execution_count": 17,
   "metadata": {
    "scrolled": true
   },
   "outputs": [
    {
     "name": "stdout",
     "output_type": "stream",
     "text": [
      "Epoch 1/50\n",
      "9/9 - 0s - loss: 0.6806 - accuracy: 0.6043 - val_loss: 0.6410 - val_accuracy: 0.7069\n",
      "Epoch 2/50\n",
      "9/9 - 0s - loss: 0.6277 - accuracy: 0.7362 - val_loss: 0.5015 - val_accuracy: 0.8966\n",
      "Epoch 3/50\n",
      "9/9 - 0s - loss: 0.5434 - accuracy: 0.7872 - val_loss: 0.4907 - val_accuracy: 0.9224\n",
      "Epoch 4/50\n",
      "9/9 - 0s - loss: 0.4457 - accuracy: 0.8553 - val_loss: 0.3651 - val_accuracy: 0.9483\n",
      "Epoch 5/50\n",
      "9/9 - 0s - loss: 0.3565 - accuracy: 0.8809 - val_loss: 0.2782 - val_accuracy: 0.9310\n",
      "Epoch 6/50\n",
      "9/9 - 0s - loss: 0.3060 - accuracy: 0.8851 - val_loss: 0.2056 - val_accuracy: 0.9569\n",
      "Epoch 7/50\n",
      "9/9 - 0s - loss: 0.2712 - accuracy: 0.8979 - val_loss: 0.2525 - val_accuracy: 0.9483\n",
      "Epoch 8/50\n",
      "9/9 - 0s - loss: 0.2216 - accuracy: 0.9234 - val_loss: 0.2177 - val_accuracy: 0.9569\n",
      "Epoch 9/50\n",
      "9/9 - 0s - loss: 0.2035 - accuracy: 0.9319 - val_loss: 0.1620 - val_accuracy: 0.9741\n",
      "Epoch 10/50\n",
      "9/9 - 0s - loss: 0.1874 - accuracy: 0.9362 - val_loss: 0.1404 - val_accuracy: 0.9741\n",
      "Epoch 11/50\n",
      "9/9 - 0s - loss: 0.1888 - accuracy: 0.9362 - val_loss: 0.2076 - val_accuracy: 0.9569\n",
      "Epoch 12/50\n",
      "9/9 - 0s - loss: 0.1653 - accuracy: 0.9404 - val_loss: 0.1294 - val_accuracy: 0.9828\n",
      "Epoch 13/50\n",
      "9/9 - 0s - loss: 0.1553 - accuracy: 0.9574 - val_loss: 0.1258 - val_accuracy: 0.9828\n",
      "Epoch 14/50\n",
      "9/9 - 0s - loss: 0.1560 - accuracy: 0.9362 - val_loss: 0.1973 - val_accuracy: 0.9483\n",
      "Epoch 15/50\n",
      "9/9 - 0s - loss: 0.1418 - accuracy: 0.9617 - val_loss: 0.0911 - val_accuracy: 0.9828\n",
      "Epoch 16/50\n",
      "9/9 - 0s - loss: 0.1290 - accuracy: 0.9574 - val_loss: 0.1358 - val_accuracy: 0.9828\n",
      "Epoch 17/50\n",
      "9/9 - 0s - loss: 0.1235 - accuracy: 0.9702 - val_loss: 0.1493 - val_accuracy: 0.9655\n",
      "Epoch 18/50\n",
      "9/9 - 0s - loss: 0.1208 - accuracy: 0.9617 - val_loss: 0.0933 - val_accuracy: 0.9914\n",
      "Epoch 19/50\n",
      "9/9 - 0s - loss: 0.1148 - accuracy: 0.9617 - val_loss: 0.1210 - val_accuracy: 0.9828\n",
      "Epoch 20/50\n",
      "9/9 - 0s - loss: 0.1073 - accuracy: 0.9702 - val_loss: 0.1042 - val_accuracy: 0.9914\n",
      "Epoch 21/50\n",
      "9/9 - 0s - loss: 0.1042 - accuracy: 0.9660 - val_loss: 0.0786 - val_accuracy: 0.9914\n",
      "Epoch 22/50\n",
      "9/9 - 0s - loss: 0.1049 - accuracy: 0.9660 - val_loss: 0.1604 - val_accuracy: 0.9655\n",
      "Epoch 23/50\n",
      "9/9 - 0s - loss: 0.1030 - accuracy: 0.9745 - val_loss: 0.0759 - val_accuracy: 0.9914\n",
      "Epoch 24/50\n",
      "9/9 - 0s - loss: 0.0961 - accuracy: 0.9702 - val_loss: 0.1162 - val_accuracy: 0.9828\n",
      "Epoch 25/50\n",
      "9/9 - 0s - loss: 0.0935 - accuracy: 0.9745 - val_loss: 0.0826 - val_accuracy: 0.9914\n",
      "Epoch 26/50\n",
      "9/9 - 0s - loss: 0.0922 - accuracy: 0.9702 - val_loss: 0.1293 - val_accuracy: 0.9828\n",
      "Epoch 27/50\n",
      "9/9 - 0s - loss: 0.0928 - accuracy: 0.9787 - val_loss: 0.0821 - val_accuracy: 0.9914\n",
      "Epoch 28/50\n",
      "9/9 - 0s - loss: 0.0847 - accuracy: 0.9745 - val_loss: 0.0777 - val_accuracy: 0.9914\n",
      "Epoch 29/50\n",
      "9/9 - 0s - loss: 0.0824 - accuracy: 0.9787 - val_loss: 0.1190 - val_accuracy: 0.9828\n",
      "Epoch 30/50\n",
      "9/9 - 0s - loss: 0.0841 - accuracy: 0.9830 - val_loss: 0.0650 - val_accuracy: 0.9914\n",
      "Epoch 31/50\n",
      "9/9 - 0s - loss: 0.0854 - accuracy: 0.9745 - val_loss: 0.0948 - val_accuracy: 0.9914\n",
      "Epoch 32/50\n",
      "9/9 - 0s - loss: 0.0824 - accuracy: 0.9787 - val_loss: 0.0819 - val_accuracy: 0.9914\n",
      "Epoch 33/50\n",
      "9/9 - 0s - loss: 0.0777 - accuracy: 0.9830 - val_loss: 0.0952 - val_accuracy: 0.9914\n",
      "Epoch 34/50\n",
      "9/9 - 0s - loss: 0.0737 - accuracy: 0.9830 - val_loss: 0.0714 - val_accuracy: 0.9914\n",
      "Epoch 35/50\n",
      "9/9 - 0s - loss: 0.0696 - accuracy: 0.9830 - val_loss: 0.1018 - val_accuracy: 0.9828\n",
      "Epoch 36/50\n",
      "9/9 - 0s - loss: 0.0702 - accuracy: 0.9830 - val_loss: 0.0760 - val_accuracy: 0.9914\n",
      "Epoch 37/50\n",
      "9/9 - 0s - loss: 0.0689 - accuracy: 0.9830 - val_loss: 0.0840 - val_accuracy: 0.9914\n",
      "Epoch 38/50\n",
      "9/9 - 0s - loss: 0.0710 - accuracy: 0.9830 - val_loss: 0.1095 - val_accuracy: 0.9828\n",
      "Epoch 39/50\n",
      "9/9 - 0s - loss: 0.0653 - accuracy: 0.9872 - val_loss: 0.0660 - val_accuracy: 0.9914\n",
      "Epoch 40/50\n",
      "9/9 - 0s - loss: 0.0623 - accuracy: 0.9830 - val_loss: 0.0864 - val_accuracy: 0.9914\n",
      "Epoch 41/50\n",
      "9/9 - 0s - loss: 0.0652 - accuracy: 0.9830 - val_loss: 0.0562 - val_accuracy: 0.9914\n",
      "Epoch 42/50\n",
      "9/9 - 0s - loss: 0.0648 - accuracy: 0.9830 - val_loss: 0.0754 - val_accuracy: 0.9914\n",
      "Epoch 43/50\n",
      "9/9 - 0s - loss: 0.0592 - accuracy: 0.9830 - val_loss: 0.0687 - val_accuracy: 0.9914\n",
      "Epoch 44/50\n",
      "9/9 - 0s - loss: 0.0587 - accuracy: 0.9872 - val_loss: 0.0732 - val_accuracy: 0.9914\n",
      "Epoch 45/50\n",
      "9/9 - 0s - loss: 0.0581 - accuracy: 0.9872 - val_loss: 0.0724 - val_accuracy: 0.9914\n",
      "Epoch 46/50\n",
      "9/9 - 0s - loss: 0.0604 - accuracy: 0.9915 - val_loss: 0.0581 - val_accuracy: 0.9914\n",
      "Epoch 47/50\n",
      "9/9 - 0s - loss: 0.0667 - accuracy: 0.9830 - val_loss: 0.0820 - val_accuracy: 0.9914\n",
      "Epoch 48/50\n",
      "9/9 - 0s - loss: 0.0538 - accuracy: 0.9872 - val_loss: 0.0659 - val_accuracy: 0.9914\n",
      "Epoch 49/50\n",
      "9/9 - 0s - loss: 0.0544 - accuracy: 0.9872 - val_loss: 0.0602 - val_accuracy: 0.9914\n",
      "Epoch 50/50\n",
      "9/9 - 0s - loss: 0.0521 - accuracy: 0.9872 - val_loss: 0.0681 - val_accuracy: 0.9914\n"
     ]
    },
    {
     "data": {
      "text/plain": [
       "<tensorflow.python.keras.callbacks.History at 0x7feedc04ef40>"
      ]
     },
     "execution_count": 17,
     "metadata": {},
     "output_type": "execute_result"
    }
   ],
   "source": [
    "model.fit(X, encoded_y, validation_split=0.33, epochs=epochs, batch_size=28, verbose=2)"
   ]
  },
  {
   "cell_type": "markdown",
   "metadata": {},
   "source": [
    "# Drop-Based Learning Rate Schedule"
   ]
  },
  {
   "cell_type": "code",
   "execution_count": 18,
   "metadata": {},
   "outputs": [],
   "source": [
    "import math\n",
    "# learning rate\n",
    "def step_decay(epoch):\n",
    "    initial_learning_rate = 0.1\n",
    "    drop = 0.5\n",
    "    epochs_drop = 10\n",
    "    current_learning_rate = initial_learning_rate * math.pow(drop, math.floor((1+epoch)/epochs_drop))\n",
    "    return current_learning_rate"
   ]
  },
  {
   "cell_type": "code",
   "execution_count": 19,
   "metadata": {},
   "outputs": [],
   "source": [
    "from keras.callbacks import LearningRateScheduler\n",
    "lrate = LearningRateScheduler(step_decay)\n",
    "callback_lists = [lrate]"
   ]
  },
  {
   "cell_type": "code",
   "execution_count": 22,
   "metadata": {},
   "outputs": [],
   "source": [
    "model_2 = Sequential()\n",
    "model_2.add(Dense(34, input_dim=34, kernel_initializer=\"uniform\", activation=\"relu\"))\n",
    "model_2.add(Dense(1, kernel_initializer=\"uniform\", activation=\"sigmoid\"))\n",
    "sgd2 = SGD(learning_rate=0.0, momentum=0.9, decay=0.0)\n",
    "model_2.compile(loss=\"binary_crossentropy\", optimizer=sgd2, metrics=[\"accuracy\"])"
   ]
  },
  {
   "cell_type": "code",
   "execution_count": 23,
   "metadata": {},
   "outputs": [
    {
     "name": "stdout",
     "output_type": "stream",
     "text": [
      "Model: \"sequential_4\"\n",
      "_________________________________________________________________\n",
      "Layer (type)                 Output Shape              Param #   \n",
      "=================================================================\n",
      "dense_7 (Dense)              (None, 34)                1190      \n",
      "_________________________________________________________________\n",
      "dense_8 (Dense)              (None, 1)                 35        \n",
      "=================================================================\n",
      "Total params: 1,225\n",
      "Trainable params: 1,225\n",
      "Non-trainable params: 0\n",
      "_________________________________________________________________\n"
     ]
    }
   ],
   "source": [
    "model_2.summary()"
   ]
  },
  {
   "cell_type": "code",
   "execution_count": 24,
   "metadata": {
    "scrolled": true
   },
   "outputs": [
    {
     "name": "stdout",
     "output_type": "stream",
     "text": [
      "Epoch 1/50\n",
      "9/9 - 0s - loss: 0.0416 - accuracy: 0.9915 - val_loss: 0.0660 - val_accuracy: 0.9914 - lr: 0.1000\n",
      "Epoch 2/50\n",
      "9/9 - 0s - loss: 0.0411 - accuracy: 0.9915 - val_loss: 0.0661 - val_accuracy: 0.9914 - lr: 0.1000\n",
      "Epoch 3/50\n",
      "9/9 - 0s - loss: 0.0401 - accuracy: 0.9915 - val_loss: 0.0591 - val_accuracy: 0.9914 - lr: 0.1000\n",
      "Epoch 4/50\n",
      "9/9 - 0s - loss: 0.0407 - accuracy: 0.9915 - val_loss: 0.0660 - val_accuracy: 0.9914 - lr: 0.1000\n",
      "Epoch 5/50\n",
      "9/9 - 0s - loss: 0.0397 - accuracy: 0.9915 - val_loss: 0.0602 - val_accuracy: 0.9914 - lr: 0.1000\n",
      "Epoch 6/50\n",
      "9/9 - 0s - loss: 0.0401 - accuracy: 0.9915 - val_loss: 0.0611 - val_accuracy: 0.9914 - lr: 0.1000\n",
      "Epoch 7/50\n",
      "9/9 - 0s - loss: 0.0404 - accuracy: 0.9915 - val_loss: 0.0631 - val_accuracy: 0.9914 - lr: 0.1000\n",
      "Epoch 8/50\n",
      "9/9 - 0s - loss: 0.0396 - accuracy: 0.9915 - val_loss: 0.0627 - val_accuracy: 0.9914 - lr: 0.1000\n",
      "Epoch 9/50\n",
      "9/9 - 0s - loss: 0.0393 - accuracy: 0.9915 - val_loss: 0.0597 - val_accuracy: 0.9914 - lr: 0.1000\n",
      "Epoch 10/50\n",
      "9/9 - 0s - loss: 0.0392 - accuracy: 0.9915 - val_loss: 0.0589 - val_accuracy: 0.9914 - lr: 0.0500\n",
      "Epoch 11/50\n",
      "9/9 - 0s - loss: 0.0392 - accuracy: 0.9915 - val_loss: 0.0630 - val_accuracy: 0.9914 - lr: 0.0500\n",
      "Epoch 12/50\n",
      "9/9 - 0s - loss: 0.0384 - accuracy: 0.9915 - val_loss: 0.0601 - val_accuracy: 0.9914 - lr: 0.0500\n",
      "Epoch 13/50\n",
      "9/9 - 0s - loss: 0.0379 - accuracy: 0.9915 - val_loss: 0.0623 - val_accuracy: 0.9914 - lr: 0.0500\n",
      "Epoch 14/50\n",
      "9/9 - 0s - loss: 0.0380 - accuracy: 0.9915 - val_loss: 0.0645 - val_accuracy: 0.9914 - lr: 0.0500\n",
      "Epoch 15/50\n",
      "9/9 - 0s - loss: 0.0377 - accuracy: 0.9915 - val_loss: 0.0584 - val_accuracy: 0.9914 - lr: 0.0500\n",
      "Epoch 16/50\n",
      "9/9 - 0s - loss: 0.0384 - accuracy: 0.9915 - val_loss: 0.0617 - val_accuracy: 0.9914 - lr: 0.0500\n",
      "Epoch 17/50\n",
      "9/9 - 0s - loss: 0.0375 - accuracy: 0.9915 - val_loss: 0.0611 - val_accuracy: 0.9914 - lr: 0.0500\n",
      "Epoch 18/50\n",
      "9/9 - 0s - loss: 0.0374 - accuracy: 0.9915 - val_loss: 0.0625 - val_accuracy: 0.9914 - lr: 0.0500\n",
      "Epoch 19/50\n",
      "9/9 - 0s - loss: 0.0371 - accuracy: 0.9915 - val_loss: 0.0635 - val_accuracy: 0.9914 - lr: 0.0500\n",
      "Epoch 20/50\n",
      "9/9 - 0s - loss: 0.0370 - accuracy: 0.9915 - val_loss: 0.0620 - val_accuracy: 0.9914 - lr: 0.0250\n",
      "Epoch 21/50\n",
      "9/9 - 0s - loss: 0.0368 - accuracy: 0.9915 - val_loss: 0.0634 - val_accuracy: 0.9914 - lr: 0.0250\n",
      "Epoch 22/50\n",
      "9/9 - 0s - loss: 0.0366 - accuracy: 0.9915 - val_loss: 0.0642 - val_accuracy: 0.9914 - lr: 0.0250\n",
      "Epoch 23/50\n",
      "9/9 - 0s - loss: 0.0367 - accuracy: 0.9915 - val_loss: 0.0638 - val_accuracy: 0.9914 - lr: 0.0250\n",
      "Epoch 24/50\n",
      "9/9 - 0s - loss: 0.0366 - accuracy: 0.9915 - val_loss: 0.0665 - val_accuracy: 0.9914 - lr: 0.0250\n",
      "Epoch 25/50\n",
      "9/9 - 0s - loss: 0.0367 - accuracy: 0.9915 - val_loss: 0.0661 - val_accuracy: 0.9914 - lr: 0.0250\n",
      "Epoch 26/50\n",
      "9/9 - 0s - loss: 0.0366 - accuracy: 0.9915 - val_loss: 0.0652 - val_accuracy: 0.9914 - lr: 0.0250\n",
      "Epoch 27/50\n",
      "9/9 - 0s - loss: 0.0367 - accuracy: 0.9915 - val_loss: 0.0640 - val_accuracy: 0.9914 - lr: 0.0250\n",
      "Epoch 28/50\n",
      "9/9 - 0s - loss: 0.0365 - accuracy: 0.9915 - val_loss: 0.0680 - val_accuracy: 0.9914 - lr: 0.0250\n",
      "Epoch 29/50\n",
      "9/9 - 0s - loss: 0.0369 - accuracy: 0.9915 - val_loss: 0.0693 - val_accuracy: 0.9914 - lr: 0.0250\n",
      "Epoch 30/50\n",
      "9/9 - 0s - loss: 0.0367 - accuracy: 0.9915 - val_loss: 0.0670 - val_accuracy: 0.9914 - lr: 0.0125\n",
      "Epoch 31/50\n",
      "9/9 - 0s - loss: 0.0364 - accuracy: 0.9915 - val_loss: 0.0664 - val_accuracy: 0.9914 - lr: 0.0125\n",
      "Epoch 32/50\n",
      "9/9 - 0s - loss: 0.0364 - accuracy: 0.9915 - val_loss: 0.0656 - val_accuracy: 0.9914 - lr: 0.0125\n",
      "Epoch 33/50\n",
      "9/9 - 0s - loss: 0.0362 - accuracy: 0.9915 - val_loss: 0.0653 - val_accuracy: 0.9914 - lr: 0.0125\n",
      "Epoch 34/50\n",
      "9/9 - 0s - loss: 0.0361 - accuracy: 0.9915 - val_loss: 0.0644 - val_accuracy: 0.9914 - lr: 0.0125\n",
      "Epoch 35/50\n",
      "9/9 - 0s - loss: 0.0361 - accuracy: 0.9915 - val_loss: 0.0638 - val_accuracy: 0.9914 - lr: 0.0125\n",
      "Epoch 36/50\n",
      "9/9 - 0s - loss: 0.0360 - accuracy: 0.9915 - val_loss: 0.0640 - val_accuracy: 0.9914 - lr: 0.0125\n",
      "Epoch 37/50\n",
      "9/9 - 0s - loss: 0.0361 - accuracy: 0.9915 - val_loss: 0.0637 - val_accuracy: 0.9914 - lr: 0.0125\n",
      "Epoch 38/50\n",
      "9/9 - 0s - loss: 0.0360 - accuracy: 0.9915 - val_loss: 0.0634 - val_accuracy: 0.9914 - lr: 0.0125\n",
      "Epoch 39/50\n",
      "9/9 - 0s - loss: 0.0360 - accuracy: 0.9915 - val_loss: 0.0629 - val_accuracy: 0.9914 - lr: 0.0125\n",
      "Epoch 40/50\n",
      "9/9 - 0s - loss: 0.0360 - accuracy: 0.9915 - val_loss: 0.0622 - val_accuracy: 0.9914 - lr: 0.0063\n",
      "Epoch 41/50\n",
      "9/9 - 0s - loss: 0.0359 - accuracy: 0.9915 - val_loss: 0.0625 - val_accuracy: 0.9914 - lr: 0.0063\n",
      "Epoch 42/50\n",
      "9/9 - 0s - loss: 0.0359 - accuracy: 0.9915 - val_loss: 0.0626 - val_accuracy: 0.9914 - lr: 0.0063\n",
      "Epoch 43/50\n",
      "9/9 - 0s - loss: 0.0359 - accuracy: 0.9915 - val_loss: 0.0629 - val_accuracy: 0.9914 - lr: 0.0063\n",
      "Epoch 44/50\n",
      "9/9 - 0s - loss: 0.0359 - accuracy: 0.9915 - val_loss: 0.0627 - val_accuracy: 0.9914 - lr: 0.0063\n",
      "Epoch 45/50\n",
      "9/9 - 0s - loss: 0.0359 - accuracy: 0.9915 - val_loss: 0.0629 - val_accuracy: 0.9914 - lr: 0.0063\n",
      "Epoch 46/50\n",
      "9/9 - 0s - loss: 0.0358 - accuracy: 0.9915 - val_loss: 0.0627 - val_accuracy: 0.9914 - lr: 0.0063\n",
      "Epoch 47/50\n",
      "9/9 - 0s - loss: 0.0358 - accuracy: 0.9915 - val_loss: 0.0624 - val_accuracy: 0.9914 - lr: 0.0063\n",
      "Epoch 48/50\n",
      "9/9 - 0s - loss: 0.0358 - accuracy: 0.9915 - val_loss: 0.0623 - val_accuracy: 0.9914 - lr: 0.0063\n",
      "Epoch 49/50\n",
      "9/9 - 0s - loss: 0.0358 - accuracy: 0.9915 - val_loss: 0.0621 - val_accuracy: 0.9914 - lr: 0.0063\n",
      "Epoch 50/50\n",
      "9/9 - 0s - loss: 0.0358 - accuracy: 0.9915 - val_loss: 0.0626 - val_accuracy: 0.9914 - lr: 0.0031\n"
     ]
    },
    {
     "data": {
      "text/plain": [
       "<tensorflow.python.keras.callbacks.History at 0x7feeac9d6070>"
      ]
     },
     "execution_count": 24,
     "metadata": {},
     "output_type": "execute_result"
    }
   ],
   "source": [
    "model.fit(X, encoded_y, validation_split=0.33, epochs=50, batch_size=28, callbacks=callback_lists, verbose=2)"
   ]
  },
  {
   "cell_type": "code",
   "execution_count": null,
   "metadata": {},
   "outputs": [],
   "source": []
  }
 ],
 "metadata": {
  "kernelspec": {
   "display_name": "Python 3",
   "language": "python",
   "name": "python3"
  },
  "language_info": {
   "codemirror_mode": {
    "name": "ipython",
    "version": 3
   },
   "file_extension": ".py",
   "mimetype": "text/x-python",
   "name": "python",
   "nbconvert_exporter": "python",
   "pygments_lexer": "ipython3",
   "version": "3.8.2"
  }
 },
 "nbformat": 4,
 "nbformat_minor": 4
}
