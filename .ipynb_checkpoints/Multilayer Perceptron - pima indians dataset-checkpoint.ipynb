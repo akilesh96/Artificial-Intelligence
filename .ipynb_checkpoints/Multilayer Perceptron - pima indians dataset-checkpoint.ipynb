{
 "cells": [
  {
   "cell_type": "code",
   "execution_count": 1,
   "metadata": {},
   "outputs": [],
   "source": [
    "from keras.models import Sequential\n",
    "from keras.layers import Dense\n",
    "import numpy"
   ]
  },
  {
   "cell_type": "code",
   "execution_count": 2,
   "metadata": {},
   "outputs": [],
   "source": [
    "# fix random seed for reproducibility\n",
    "seed = 7\n",
    "numpy.random.seed(seed)"
   ]
  },
  {
   "cell_type": "code",
   "execution_count": 3,
   "metadata": {},
   "outputs": [],
   "source": [
    "# load pima indians dataset\n",
    "dataset = numpy.loadtxt(\"datasets/pima-indians-diabetes.csv\", delimiter=\",\")\n",
    "# split into input (X) and output (Y) variables\n",
    "X = dataset[:,0:8]\n",
    "Y = dataset[:,8]"
   ]
  },
  {
   "cell_type": "code",
   "execution_count": 4,
   "metadata": {},
   "outputs": [],
   "source": [
    "# create model\n",
    "model = Sequential()\n",
    "model.add(Dense(12, input_dim=8, kernel_initializer= \"uniform\" , activation= \"relu\" ))\n",
    "model.add(Dense(8, kernel_initializer= \"uniform\" , activation= \"relu\" ))\n",
    "model.add(Dense(1, kernel_initializer= \"uniform\" , activation= \"sigmoid\" ))"
   ]
  },
  {
   "cell_type": "code",
   "execution_count": 5,
   "metadata": {},
   "outputs": [],
   "source": [
    "# Compile model\n",
    "model.compile(loss=\"binary_crossentropy\", optimizer=\"adam\", metrics=[\"accuracy\"])"
   ]
  },
  {
   "cell_type": "code",
   "execution_count": 6,
   "metadata": {},
   "outputs": [
    {
     "name": "stdout",
     "output_type": "stream",
     "text": [
      "Model: \"sequential\"\n",
      "_________________________________________________________________\n",
      "Layer (type)                 Output Shape              Param #   \n",
      "=================================================================\n",
      "dense (Dense)                (None, 12)                108       \n",
      "_________________________________________________________________\n",
      "dense_1 (Dense)              (None, 8)                 104       \n",
      "_________________________________________________________________\n",
      "dense_2 (Dense)              (None, 1)                 9         \n",
      "=================================================================\n",
      "Total params: 221\n",
      "Trainable params: 221\n",
      "Non-trainable params: 0\n",
      "_________________________________________________________________\n"
     ]
    }
   ],
   "source": [
    "model.summary()"
   ]
  },
  {
   "cell_type": "code",
   "execution_count": 7,
   "metadata": {
    "scrolled": true
   },
   "outputs": [
    {
     "name": "stdout",
     "output_type": "stream",
     "text": [
      "Epoch 1/150\n",
      "52/52 [==============================] - 0s 4ms/step - loss: 0.6907 - accuracy: 0.6031 - val_loss: 0.6865 - val_accuracy: 0.6732\n",
      "Epoch 2/150\n",
      "52/52 [==============================] - 0s 1ms/step - loss: 0.6859 - accuracy: 0.6401 - val_loss: 0.6815 - val_accuracy: 0.6732\n",
      "Epoch 3/150\n",
      "52/52 [==============================] - 0s 1ms/step - loss: 0.6819 - accuracy: 0.6401 - val_loss: 0.6766 - val_accuracy: 0.6732\n",
      "Epoch 4/150\n",
      "52/52 [==============================] - 0s 1ms/step - loss: 0.6783 - accuracy: 0.6401 - val_loss: 0.6727 - val_accuracy: 0.6732\n",
      "Epoch 5/150\n",
      "52/52 [==============================] - 0s 1ms/step - loss: 0.6746 - accuracy: 0.6401 - val_loss: 0.6633 - val_accuracy: 0.6732\n",
      "Epoch 6/150\n",
      "52/52 [==============================] - 0s 1ms/step - loss: 0.6626 - accuracy: 0.6420 - val_loss: 0.6520 - val_accuracy: 0.6969\n",
      "Epoch 7/150\n",
      "52/52 [==============================] - 0s 1ms/step - loss: 0.6556 - accuracy: 0.6440 - val_loss: 0.6422 - val_accuracy: 0.7047\n",
      "Epoch 8/150\n",
      "52/52 [==============================] - 0s 1ms/step - loss: 0.6386 - accuracy: 0.6537 - val_loss: 0.6265 - val_accuracy: 0.7087\n",
      "Epoch 9/150\n",
      "52/52 [==============================] - 0s 1ms/step - loss: 0.6348 - accuracy: 0.6693 - val_loss: 0.6174 - val_accuracy: 0.7087\n",
      "Epoch 10/150\n",
      "52/52 [==============================] - 0s 1ms/step - loss: 0.6265 - accuracy: 0.6673 - val_loss: 0.6116 - val_accuracy: 0.6929\n",
      "Epoch 11/150\n",
      "52/52 [==============================] - 0s 1ms/step - loss: 0.6180 - accuracy: 0.6732 - val_loss: 0.6025 - val_accuracy: 0.7087\n",
      "Epoch 12/150\n",
      "52/52 [==============================] - 0s 1ms/step - loss: 0.6096 - accuracy: 0.6887 - val_loss: 0.5920 - val_accuracy: 0.7047\n",
      "Epoch 13/150\n",
      "52/52 [==============================] - 0s 1ms/step - loss: 0.6065 - accuracy: 0.7023 - val_loss: 0.5906 - val_accuracy: 0.6772\n",
      "Epoch 14/150\n",
      "52/52 [==============================] - 0s 1ms/step - loss: 0.5998 - accuracy: 0.7023 - val_loss: 0.5924 - val_accuracy: 0.7047\n",
      "Epoch 15/150\n",
      "52/52 [==============================] - 0s 1ms/step - loss: 0.5982 - accuracy: 0.7023 - val_loss: 0.5767 - val_accuracy: 0.7008\n",
      "Epoch 16/150\n",
      "52/52 [==============================] - 0s 1ms/step - loss: 0.5970 - accuracy: 0.7237 - val_loss: 0.5839 - val_accuracy: 0.6929\n",
      "Epoch 17/150\n",
      "52/52 [==============================] - 0s 1ms/step - loss: 0.5888 - accuracy: 0.7082 - val_loss: 0.5790 - val_accuracy: 0.6969\n",
      "Epoch 18/150\n",
      "52/52 [==============================] - 0s 1ms/step - loss: 0.5879 - accuracy: 0.7082 - val_loss: 0.5735 - val_accuracy: 0.6929\n",
      "Epoch 19/150\n",
      "52/52 [==============================] - 0s 1ms/step - loss: 0.5825 - accuracy: 0.7179 - val_loss: 0.5678 - val_accuracy: 0.7126\n",
      "Epoch 20/150\n",
      "52/52 [==============================] - 0s 1ms/step - loss: 0.5747 - accuracy: 0.7315 - val_loss: 0.5772 - val_accuracy: 0.6929\n",
      "Epoch 21/150\n",
      "52/52 [==============================] - 0s 2ms/step - loss: 0.5835 - accuracy: 0.7082 - val_loss: 0.5648 - val_accuracy: 0.7205\n",
      "Epoch 22/150\n",
      "52/52 [==============================] - 0s 2ms/step - loss: 0.5782 - accuracy: 0.7198 - val_loss: 0.5569 - val_accuracy: 0.7126\n",
      "Epoch 23/150\n",
      "52/52 [==============================] - 0s 1ms/step - loss: 0.5700 - accuracy: 0.7257 - val_loss: 0.5567 - val_accuracy: 0.7165\n",
      "Epoch 24/150\n",
      "52/52 [==============================] - 0s 1ms/step - loss: 0.5667 - accuracy: 0.7276 - val_loss: 0.5726 - val_accuracy: 0.7047\n",
      "Epoch 25/150\n",
      "52/52 [==============================] - 0s 1ms/step - loss: 0.5686 - accuracy: 0.7218 - val_loss: 0.5545 - val_accuracy: 0.7008\n",
      "Epoch 26/150\n",
      "52/52 [==============================] - 0s 2ms/step - loss: 0.5670 - accuracy: 0.7315 - val_loss: 0.5792 - val_accuracy: 0.7008\n",
      "Epoch 27/150\n",
      "52/52 [==============================] - 0s 1ms/step - loss: 0.5615 - accuracy: 0.7471 - val_loss: 0.5501 - val_accuracy: 0.7205\n",
      "Epoch 28/150\n",
      "52/52 [==============================] - 0s 2ms/step - loss: 0.5586 - accuracy: 0.7218 - val_loss: 0.5642 - val_accuracy: 0.7205\n",
      "Epoch 29/150\n",
      "52/52 [==============================] - 0s 2ms/step - loss: 0.5613 - accuracy: 0.7335 - val_loss: 0.5568 - val_accuracy: 0.7047\n",
      "Epoch 30/150\n",
      "52/52 [==============================] - 0s 1ms/step - loss: 0.5616 - accuracy: 0.7218 - val_loss: 0.5750 - val_accuracy: 0.7087\n",
      "Epoch 31/150\n",
      "52/52 [==============================] - 0s 1ms/step - loss: 0.5621 - accuracy: 0.7198 - val_loss: 0.5635 - val_accuracy: 0.7244\n",
      "Epoch 32/150\n",
      "52/52 [==============================] - 0s 1ms/step - loss: 0.5554 - accuracy: 0.7374 - val_loss: 0.5692 - val_accuracy: 0.7165\n",
      "Epoch 33/150\n",
      "52/52 [==============================] - 0s 1ms/step - loss: 0.5565 - accuracy: 0.7218 - val_loss: 0.5512 - val_accuracy: 0.7087\n",
      "Epoch 34/150\n",
      "52/52 [==============================] - 0s 1ms/step - loss: 0.5569 - accuracy: 0.7218 - val_loss: 0.5532 - val_accuracy: 0.7362\n",
      "Epoch 35/150\n",
      "52/52 [==============================] - 0s 1ms/step - loss: 0.5484 - accuracy: 0.7257 - val_loss: 0.5507 - val_accuracy: 0.7283\n",
      "Epoch 36/150\n",
      "52/52 [==============================] - 0s 1ms/step - loss: 0.5623 - accuracy: 0.7082 - val_loss: 0.5543 - val_accuracy: 0.7244\n",
      "Epoch 37/150\n",
      "52/52 [==============================] - 0s 2ms/step - loss: 0.5516 - accuracy: 0.7237 - val_loss: 0.5526 - val_accuracy: 0.7441\n",
      "Epoch 38/150\n",
      "52/52 [==============================] - 0s 2ms/step - loss: 0.5514 - accuracy: 0.7374 - val_loss: 0.5524 - val_accuracy: 0.7126\n",
      "Epoch 39/150\n",
      "52/52 [==============================] - 0s 2ms/step - loss: 0.5469 - accuracy: 0.7354 - val_loss: 0.5462 - val_accuracy: 0.7362\n",
      "Epoch 40/150\n",
      "52/52 [==============================] - 0s 1ms/step - loss: 0.5496 - accuracy: 0.7315 - val_loss: 0.5459 - val_accuracy: 0.7402\n",
      "Epoch 41/150\n",
      "52/52 [==============================] - 0s 2ms/step - loss: 0.5530 - accuracy: 0.7257 - val_loss: 0.5609 - val_accuracy: 0.7244\n",
      "Epoch 42/150\n",
      "52/52 [==============================] - 0s 1ms/step - loss: 0.5535 - accuracy: 0.7198 - val_loss: 0.5468 - val_accuracy: 0.7480\n",
      "Epoch 43/150\n",
      "52/52 [==============================] - 0s 1ms/step - loss: 0.5509 - accuracy: 0.7218 - val_loss: 0.5591 - val_accuracy: 0.7441\n",
      "Epoch 44/150\n",
      "52/52 [==============================] - 0s 1ms/step - loss: 0.5418 - accuracy: 0.7393 - val_loss: 0.5454 - val_accuracy: 0.7323\n",
      "Epoch 45/150\n",
      "52/52 [==============================] - 0s 2ms/step - loss: 0.5377 - accuracy: 0.7296 - val_loss: 0.5457 - val_accuracy: 0.7323\n",
      "Epoch 46/150\n",
      "52/52 [==============================] - 0s 1ms/step - loss: 0.5383 - accuracy: 0.7315 - val_loss: 0.5714 - val_accuracy: 0.7165\n",
      "Epoch 47/150\n",
      "52/52 [==============================] - 0s 1ms/step - loss: 0.5415 - accuracy: 0.7432 - val_loss: 0.5470 - val_accuracy: 0.7441\n",
      "Epoch 48/150\n",
      "52/52 [==============================] - 0s 1ms/step - loss: 0.5361 - accuracy: 0.7374 - val_loss: 0.5577 - val_accuracy: 0.7402\n",
      "Epoch 49/150\n",
      "52/52 [==============================] - 0s 1ms/step - loss: 0.5423 - accuracy: 0.7354 - val_loss: 0.5595 - val_accuracy: 0.7402\n",
      "Epoch 50/150\n",
      "52/52 [==============================] - 0s 1ms/step - loss: 0.5409 - accuracy: 0.7335 - val_loss: 0.5445 - val_accuracy: 0.7244\n",
      "Epoch 51/150\n",
      "52/52 [==============================] - 0s 1ms/step - loss: 0.5401 - accuracy: 0.7237 - val_loss: 0.5391 - val_accuracy: 0.7598\n",
      "Epoch 52/150\n",
      "52/52 [==============================] - 0s 2ms/step - loss: 0.5387 - accuracy: 0.7374 - val_loss: 0.5437 - val_accuracy: 0.7441\n",
      "Epoch 53/150\n",
      "52/52 [==============================] - 0s 1ms/step - loss: 0.5334 - accuracy: 0.7471 - val_loss: 0.5450 - val_accuracy: 0.7244\n",
      "Epoch 54/150\n",
      "52/52 [==============================] - 0s 1ms/step - loss: 0.5358 - accuracy: 0.7374 - val_loss: 0.5568 - val_accuracy: 0.7402\n",
      "Epoch 55/150\n",
      "52/52 [==============================] - 0s 1ms/step - loss: 0.5511 - accuracy: 0.7412 - val_loss: 0.5417 - val_accuracy: 0.7283\n",
      "Epoch 56/150\n",
      "52/52 [==============================] - 0s 1ms/step - loss: 0.5378 - accuracy: 0.7218 - val_loss: 0.5479 - val_accuracy: 0.7441\n",
      "Epoch 57/150\n",
      "52/52 [==============================] - 0s 1ms/step - loss: 0.5502 - accuracy: 0.7140 - val_loss: 0.5521 - val_accuracy: 0.7205\n",
      "Epoch 58/150\n",
      "52/52 [==============================] - 0s 1ms/step - loss: 0.5369 - accuracy: 0.7354 - val_loss: 0.5416 - val_accuracy: 0.7402\n"
     ]
    },
    {
     "name": "stdout",
     "output_type": "stream",
     "text": [
      "Epoch 59/150\n",
      "52/52 [==============================] - 0s 1ms/step - loss: 0.5347 - accuracy: 0.7451 - val_loss: 0.5606 - val_accuracy: 0.7283\n",
      "Epoch 60/150\n",
      "52/52 [==============================] - 0s 2ms/step - loss: 0.5357 - accuracy: 0.7335 - val_loss: 0.5421 - val_accuracy: 0.7520\n",
      "Epoch 61/150\n",
      "52/52 [==============================] - 0s 2ms/step - loss: 0.5370 - accuracy: 0.7257 - val_loss: 0.5465 - val_accuracy: 0.7520\n",
      "Epoch 62/150\n",
      "52/52 [==============================] - 0s 1ms/step - loss: 0.5320 - accuracy: 0.7490 - val_loss: 0.5368 - val_accuracy: 0.7520\n",
      "Epoch 63/150\n",
      "52/52 [==============================] - 0s 1ms/step - loss: 0.5340 - accuracy: 0.7354 - val_loss: 0.5488 - val_accuracy: 0.7362\n",
      "Epoch 64/150\n",
      "52/52 [==============================] - 0s 2ms/step - loss: 0.5304 - accuracy: 0.7412 - val_loss: 0.5424 - val_accuracy: 0.7717\n",
      "Epoch 65/150\n",
      "52/52 [==============================] - 0s 2ms/step - loss: 0.5379 - accuracy: 0.7315 - val_loss: 0.5425 - val_accuracy: 0.7402\n",
      "Epoch 66/150\n",
      "52/52 [==============================] - 0s 1ms/step - loss: 0.5306 - accuracy: 0.7471 - val_loss: 0.5513 - val_accuracy: 0.7441\n",
      "Epoch 67/150\n",
      "52/52 [==============================] - 0s 2ms/step - loss: 0.5348 - accuracy: 0.7393 - val_loss: 0.5448 - val_accuracy: 0.7283\n",
      "Epoch 68/150\n",
      "52/52 [==============================] - 0s 2ms/step - loss: 0.5412 - accuracy: 0.7315 - val_loss: 0.5358 - val_accuracy: 0.7559\n",
      "Epoch 69/150\n",
      "52/52 [==============================] - 0s 2ms/step - loss: 0.5321 - accuracy: 0.7218 - val_loss: 0.5348 - val_accuracy: 0.7598\n",
      "Epoch 70/150\n",
      "52/52 [==============================] - 0s 1ms/step - loss: 0.5293 - accuracy: 0.7471 - val_loss: 0.5460 - val_accuracy: 0.7480\n",
      "Epoch 71/150\n",
      "52/52 [==============================] - 0s 1ms/step - loss: 0.5271 - accuracy: 0.7529 - val_loss: 0.5539 - val_accuracy: 0.7323\n",
      "Epoch 72/150\n",
      "52/52 [==============================] - 0s 2ms/step - loss: 0.5296 - accuracy: 0.7393 - val_loss: 0.5292 - val_accuracy: 0.7638\n",
      "Epoch 73/150\n",
      "52/52 [==============================] - 0s 1ms/step - loss: 0.5234 - accuracy: 0.7432 - val_loss: 0.5311 - val_accuracy: 0.7677\n",
      "Epoch 74/150\n",
      "52/52 [==============================] - 0s 1ms/step - loss: 0.5281 - accuracy: 0.7296 - val_loss: 0.5386 - val_accuracy: 0.7559\n",
      "Epoch 75/150\n",
      "52/52 [==============================] - 0s 2ms/step - loss: 0.5284 - accuracy: 0.7529 - val_loss: 0.5437 - val_accuracy: 0.7520\n",
      "Epoch 76/150\n",
      "52/52 [==============================] - 0s 2ms/step - loss: 0.5253 - accuracy: 0.7529 - val_loss: 0.5583 - val_accuracy: 0.7205\n",
      "Epoch 77/150\n",
      "52/52 [==============================] - 0s 2ms/step - loss: 0.5462 - accuracy: 0.7160 - val_loss: 0.5591 - val_accuracy: 0.7244\n",
      "Epoch 78/150\n",
      "52/52 [==============================] - 0s 2ms/step - loss: 0.5293 - accuracy: 0.7510 - val_loss: 0.5370 - val_accuracy: 0.7323\n",
      "Epoch 79/150\n",
      "52/52 [==============================] - 0s 2ms/step - loss: 0.5250 - accuracy: 0.7471 - val_loss: 0.5397 - val_accuracy: 0.7480\n",
      "Epoch 80/150\n",
      "52/52 [==============================] - 0s 1ms/step - loss: 0.5366 - accuracy: 0.7393 - val_loss: 0.5300 - val_accuracy: 0.7677\n",
      "Epoch 81/150\n",
      "52/52 [==============================] - 0s 1ms/step - loss: 0.5255 - accuracy: 0.7412 - val_loss: 0.5356 - val_accuracy: 0.7598\n",
      "Epoch 82/150\n",
      "52/52 [==============================] - 0s 2ms/step - loss: 0.5331 - accuracy: 0.7335 - val_loss: 0.5348 - val_accuracy: 0.7638\n",
      "Epoch 83/150\n",
      "52/52 [==============================] - 0s 2ms/step - loss: 0.5191 - accuracy: 0.7568 - val_loss: 0.5396 - val_accuracy: 0.7283\n",
      "Epoch 84/150\n",
      "52/52 [==============================] - 0s 1ms/step - loss: 0.5224 - accuracy: 0.7510 - val_loss: 0.5281 - val_accuracy: 0.7441\n",
      "Epoch 85/150\n",
      "52/52 [==============================] - 0s 1ms/step - loss: 0.5252 - accuracy: 0.7393 - val_loss: 0.5280 - val_accuracy: 0.7717\n",
      "Epoch 86/150\n",
      "52/52 [==============================] - 0s 2ms/step - loss: 0.5227 - accuracy: 0.7374 - val_loss: 0.5245 - val_accuracy: 0.7717\n",
      "Epoch 87/150\n",
      "52/52 [==============================] - 0s 1ms/step - loss: 0.5281 - accuracy: 0.7354 - val_loss: 0.5367 - val_accuracy: 0.7362\n",
      "Epoch 88/150\n",
      "52/52 [==============================] - 0s 1ms/step - loss: 0.5316 - accuracy: 0.7451 - val_loss: 0.5246 - val_accuracy: 0.7756\n",
      "Epoch 89/150\n",
      "52/52 [==============================] - 0s 2ms/step - loss: 0.5227 - accuracy: 0.7568 - val_loss: 0.5235 - val_accuracy: 0.7835\n",
      "Epoch 90/150\n",
      "52/52 [==============================] - 0s 2ms/step - loss: 0.5199 - accuracy: 0.7315 - val_loss: 0.5246 - val_accuracy: 0.7874\n",
      "Epoch 91/150\n",
      "52/52 [==============================] - 0s 1ms/step - loss: 0.5216 - accuracy: 0.7374 - val_loss: 0.5226 - val_accuracy: 0.7795\n",
      "Epoch 92/150\n",
      "52/52 [==============================] - 0s 1ms/step - loss: 0.5277 - accuracy: 0.7471 - val_loss: 0.5198 - val_accuracy: 0.7756\n",
      "Epoch 93/150\n",
      "52/52 [==============================] - 0s 2ms/step - loss: 0.5196 - accuracy: 0.7568 - val_loss: 0.5270 - val_accuracy: 0.7677\n",
      "Epoch 94/150\n",
      "52/52 [==============================] - 0s 1ms/step - loss: 0.5203 - accuracy: 0.7451 - val_loss: 0.5264 - val_accuracy: 0.7638\n",
      "Epoch 95/150\n",
      "52/52 [==============================] - 0s 1ms/step - loss: 0.5188 - accuracy: 0.7510 - val_loss: 0.5266 - val_accuracy: 0.7598\n",
      "Epoch 96/150\n",
      "52/52 [==============================] - 0s 2ms/step - loss: 0.5261 - accuracy: 0.7276 - val_loss: 0.5315 - val_accuracy: 0.7520\n",
      "Epoch 97/150\n",
      "52/52 [==============================] - 0s 1ms/step - loss: 0.5160 - accuracy: 0.7490 - val_loss: 0.5231 - val_accuracy: 0.7835\n",
      "Epoch 98/150\n",
      "52/52 [==============================] - 0s 1ms/step - loss: 0.5163 - accuracy: 0.7451 - val_loss: 0.5341 - val_accuracy: 0.7559\n",
      "Epoch 99/150\n",
      "52/52 [==============================] - 0s 1ms/step - loss: 0.5141 - accuracy: 0.7529 - val_loss: 0.5219 - val_accuracy: 0.7756\n",
      "Epoch 100/150\n",
      "52/52 [==============================] - 0s 2ms/step - loss: 0.5145 - accuracy: 0.7490 - val_loss: 0.5342 - val_accuracy: 0.7598\n",
      "Epoch 101/150\n",
      "52/52 [==============================] - 0s 2ms/step - loss: 0.5205 - accuracy: 0.7296 - val_loss: 0.5309 - val_accuracy: 0.7717\n",
      "Epoch 102/150\n",
      "52/52 [==============================] - 0s 2ms/step - loss: 0.5150 - accuracy: 0.7490 - val_loss: 0.5331 - val_accuracy: 0.7244\n",
      "Epoch 103/150\n",
      "52/52 [==============================] - 0s 2ms/step - loss: 0.5285 - accuracy: 0.7412 - val_loss: 0.5231 - val_accuracy: 0.7520\n",
      "Epoch 104/150\n",
      "52/52 [==============================] - 0s 1ms/step - loss: 0.5211 - accuracy: 0.7412 - val_loss: 0.5204 - val_accuracy: 0.7677\n",
      "Epoch 105/150\n",
      "52/52 [==============================] - 0s 2ms/step - loss: 0.5151 - accuracy: 0.7588 - val_loss: 0.5265 - val_accuracy: 0.7795\n",
      "Epoch 106/150\n",
      "52/52 [==============================] - 0s 2ms/step - loss: 0.5160 - accuracy: 0.7529 - val_loss: 0.5214 - val_accuracy: 0.7717\n",
      "Epoch 107/150\n",
      "52/52 [==============================] - 0s 2ms/step - loss: 0.5127 - accuracy: 0.7510 - val_loss: 0.5155 - val_accuracy: 0.7598\n",
      "Epoch 108/150\n",
      "52/52 [==============================] - 0s 1ms/step - loss: 0.5179 - accuracy: 0.7451 - val_loss: 0.5164 - val_accuracy: 0.7795\n",
      "Epoch 109/150\n",
      "52/52 [==============================] - 0s 1ms/step - loss: 0.5174 - accuracy: 0.7529 - val_loss: 0.5237 - val_accuracy: 0.7795\n",
      "Epoch 110/150\n",
      "52/52 [==============================] - 0s 1ms/step - loss: 0.5171 - accuracy: 0.7432 - val_loss: 0.5192 - val_accuracy: 0.7717\n",
      "Epoch 111/150\n",
      "52/52 [==============================] - 0s 1ms/step - loss: 0.5175 - accuracy: 0.7529 - val_loss: 0.5144 - val_accuracy: 0.7874\n",
      "Epoch 112/150\n",
      "52/52 [==============================] - 0s 1ms/step - loss: 0.5186 - accuracy: 0.7529 - val_loss: 0.5321 - val_accuracy: 0.7480\n",
      "Epoch 113/150\n",
      "52/52 [==============================] - 0s 1ms/step - loss: 0.5277 - accuracy: 0.7257 - val_loss: 0.5191 - val_accuracy: 0.7717\n",
      "Epoch 114/150\n",
      "52/52 [==============================] - 0s 1ms/step - loss: 0.5192 - accuracy: 0.7315 - val_loss: 0.5185 - val_accuracy: 0.7795\n",
      "Epoch 115/150\n",
      "52/52 [==============================] - 0s 1ms/step - loss: 0.5110 - accuracy: 0.7490 - val_loss: 0.5174 - val_accuracy: 0.7717\n",
      "Epoch 116/150\n"
     ]
    },
    {
     "name": "stdout",
     "output_type": "stream",
     "text": [
      "52/52 [==============================] - 0s 1ms/step - loss: 0.5137 - accuracy: 0.7568 - val_loss: 0.5132 - val_accuracy: 0.7795\n",
      "Epoch 117/150\n",
      "52/52 [==============================] - 0s 1ms/step - loss: 0.5121 - accuracy: 0.7471 - val_loss: 0.5125 - val_accuracy: 0.7795\n",
      "Epoch 118/150\n",
      "52/52 [==============================] - 0s 1ms/step - loss: 0.5094 - accuracy: 0.7510 - val_loss: 0.5165 - val_accuracy: 0.7638\n",
      "Epoch 119/150\n",
      "52/52 [==============================] - 0s 1ms/step - loss: 0.5180 - accuracy: 0.7354 - val_loss: 0.5109 - val_accuracy: 0.7835\n",
      "Epoch 120/150\n",
      "52/52 [==============================] - 0s 1ms/step - loss: 0.5130 - accuracy: 0.7549 - val_loss: 0.5252 - val_accuracy: 0.7598\n",
      "Epoch 121/150\n",
      "52/52 [==============================] - 0s 1ms/step - loss: 0.5202 - accuracy: 0.7588 - val_loss: 0.5089 - val_accuracy: 0.7874\n",
      "Epoch 122/150\n",
      "52/52 [==============================] - 0s 1ms/step - loss: 0.5137 - accuracy: 0.7374 - val_loss: 0.5164 - val_accuracy: 0.7756\n",
      "Epoch 123/150\n",
      "52/52 [==============================] - 0s 1ms/step - loss: 0.5104 - accuracy: 0.7490 - val_loss: 0.5248 - val_accuracy: 0.7520\n",
      "Epoch 124/150\n",
      "52/52 [==============================] - 0s 1ms/step - loss: 0.5145 - accuracy: 0.7529 - val_loss: 0.5129 - val_accuracy: 0.7638\n",
      "Epoch 125/150\n",
      "52/52 [==============================] - 0s 1ms/step - loss: 0.5118 - accuracy: 0.7490 - val_loss: 0.5073 - val_accuracy: 0.7913\n",
      "Epoch 126/150\n",
      "52/52 [==============================] - 0s 1ms/step - loss: 0.5092 - accuracy: 0.7568 - val_loss: 0.5141 - val_accuracy: 0.7520\n",
      "Epoch 127/150\n",
      "52/52 [==============================] - 0s 1ms/step - loss: 0.5220 - accuracy: 0.7315 - val_loss: 0.5125 - val_accuracy: 0.7638\n",
      "Epoch 128/150\n",
      "52/52 [==============================] - 0s 1ms/step - loss: 0.5064 - accuracy: 0.7471 - val_loss: 0.5556 - val_accuracy: 0.7283\n",
      "Epoch 129/150\n",
      "52/52 [==============================] - 0s 1ms/step - loss: 0.5207 - accuracy: 0.7354 - val_loss: 0.5184 - val_accuracy: 0.7559\n",
      "Epoch 130/150\n",
      "52/52 [==============================] - 0s 1ms/step - loss: 0.5078 - accuracy: 0.7490 - val_loss: 0.5048 - val_accuracy: 0.7953\n",
      "Epoch 131/150\n",
      "52/52 [==============================] - 0s 1ms/step - loss: 0.5071 - accuracy: 0.7510 - val_loss: 0.5050 - val_accuracy: 0.7913\n",
      "Epoch 132/150\n",
      "52/52 [==============================] - 0s 1ms/step - loss: 0.5066 - accuracy: 0.7588 - val_loss: 0.5308 - val_accuracy: 0.7520\n",
      "Epoch 133/150\n",
      "52/52 [==============================] - 0s 1ms/step - loss: 0.5076 - accuracy: 0.7529 - val_loss: 0.5040 - val_accuracy: 0.7913\n",
      "Epoch 134/150\n",
      "52/52 [==============================] - 0s 1ms/step - loss: 0.5102 - accuracy: 0.7451 - val_loss: 0.5021 - val_accuracy: 0.7874\n",
      "Epoch 135/150\n",
      "52/52 [==============================] - 0s 1ms/step - loss: 0.5080 - accuracy: 0.7529 - val_loss: 0.5214 - val_accuracy: 0.7638\n",
      "Epoch 136/150\n",
      "52/52 [==============================] - 0s 1ms/step - loss: 0.5064 - accuracy: 0.7529 - val_loss: 0.5147 - val_accuracy: 0.7717\n",
      "Epoch 137/150\n",
      "52/52 [==============================] - 0s 1ms/step - loss: 0.5068 - accuracy: 0.7568 - val_loss: 0.5119 - val_accuracy: 0.7677\n",
      "Epoch 138/150\n",
      "52/52 [==============================] - 0s 1ms/step - loss: 0.5129 - accuracy: 0.7549 - val_loss: 0.5127 - val_accuracy: 0.7756\n",
      "Epoch 139/150\n",
      "52/52 [==============================] - 0s 1ms/step - loss: 0.5083 - accuracy: 0.7549 - val_loss: 0.5041 - val_accuracy: 0.7874\n",
      "Epoch 140/150\n",
      "52/52 [==============================] - 0s 1ms/step - loss: 0.5069 - accuracy: 0.7510 - val_loss: 0.5074 - val_accuracy: 0.7756\n",
      "Epoch 141/150\n",
      "52/52 [==============================] - 0s 1ms/step - loss: 0.5195 - accuracy: 0.7646 - val_loss: 0.5155 - val_accuracy: 0.7559\n",
      "Epoch 142/150\n",
      "52/52 [==============================] - 0s 1ms/step - loss: 0.5068 - accuracy: 0.7412 - val_loss: 0.5016 - val_accuracy: 0.7913\n",
      "Epoch 143/150\n",
      "52/52 [==============================] - 0s 1ms/step - loss: 0.5038 - accuracy: 0.7607 - val_loss: 0.5013 - val_accuracy: 0.7795\n",
      "Epoch 144/150\n",
      "52/52 [==============================] - 0s 1ms/step - loss: 0.5055 - accuracy: 0.7607 - val_loss: 0.5061 - val_accuracy: 0.7717\n",
      "Epoch 145/150\n",
      "52/52 [==============================] - 0s 1ms/step - loss: 0.5044 - accuracy: 0.7471 - val_loss: 0.5061 - val_accuracy: 0.7835\n",
      "Epoch 146/150\n",
      "52/52 [==============================] - 0s 1ms/step - loss: 0.4999 - accuracy: 0.7568 - val_loss: 0.5024 - val_accuracy: 0.7677\n",
      "Epoch 147/150\n",
      "52/52 [==============================] - ETA: 0s - loss: 0.6187 - accuracy: 0.60 - 0s 1ms/step - loss: 0.5035 - accuracy: 0.7607 - val_loss: 0.5560 - val_accuracy: 0.7441\n",
      "Epoch 148/150\n",
      "52/52 [==============================] - 0s 1ms/step - loss: 0.4983 - accuracy: 0.7626 - val_loss: 0.5054 - val_accuracy: 0.7598\n",
      "Epoch 149/150\n",
      "52/52 [==============================] - 0s 1ms/step - loss: 0.5019 - accuracy: 0.7646 - val_loss: 0.5069 - val_accuracy: 0.7756\n",
      "Epoch 150/150\n",
      "52/52 [==============================] - 0s 1ms/step - loss: 0.5066 - accuracy: 0.7549 - val_loss: 0.5089 - val_accuracy: 0.7835\n"
     ]
    },
    {
     "data": {
      "text/plain": [
       "<tensorflow.python.keras.callbacks.History at 0x7fe4f1c82670>"
      ]
     },
     "execution_count": 7,
     "metadata": {},
     "output_type": "execute_result"
    }
   ],
   "source": [
    "# Fit the model\n",
    "model.fit(X, Y, validation_split=0.33, epochs=150, batch_size=10)"
   ]
  },
  {
   "cell_type": "code",
   "execution_count": 8,
   "metadata": {},
   "outputs": [
    {
     "name": "stdout",
     "output_type": "stream",
     "text": [
      "24/24 [==============================] - 0s 862us/step - loss: 0.5019 - accuracy: 0.7669\n",
      "accuracy: 76.69%\n"
     ]
    }
   ],
   "source": [
    "# evaluate the model\n",
    "scores = model.evaluate(X, Y)\n",
    "print(\"%s: %.2f%%\" % (model.metrics_names[1], scores[1]*100))"
   ]
  },
  {
   "cell_type": "code",
   "execution_count": 9,
   "metadata": {},
   "outputs": [
    {
     "name": "stdout",
     "output_type": "stream",
     "text": [
      "Saved model to disk\n"
     ]
    }
   ],
   "source": [
    "# serialize model to JSON\n",
    "model_json = model.to_json()\n",
    "with open(\"models/mlp_pima_indians.json\", \"w\") as json_file:\n",
    "    json_file.write(model_json)\n",
    "# serialize weights to HDF5\n",
    "model.save_weights(\"models/mlp_pima_indians.h5\")\n",
    "print(\"Saved model to disk\")"
   ]
  },
  {
   "cell_type": "code",
   "execution_count": 10,
   "metadata": {},
   "outputs": [],
   "source": [
    "from keras.models import model_from_json"
   ]
  },
  {
   "cell_type": "code",
   "execution_count": 12,
   "metadata": {},
   "outputs": [
    {
     "name": "stdout",
     "output_type": "stream",
     "text": [
      "Loaded model from disk\n"
     ]
    }
   ],
   "source": [
    "# load json and create model\n",
    "json_file = open( \"models/mlp_pima_indians.json\" , \"r\" )\n",
    "loaded_model_json = json_file.read()\n",
    "json_file.close()\n",
    "loaded_model = model_from_json(loaded_model_json)\n",
    "# load weights into new model\n",
    "loaded_model.load_weights(\"models/mlp_pima_indians.h5\")\n",
    "print(\"Loaded model from disk\")"
   ]
  },
  {
   "cell_type": "code",
   "execution_count": 15,
   "metadata": {},
   "outputs": [
    {
     "name": "stdout",
     "output_type": "stream",
     "text": [
      "accuracy: 76.69%\n"
     ]
    }
   ],
   "source": [
    "# evaluate loaded model on test data\n",
    "loaded_model.compile(loss= \"binary_crossentropy\" , optimizer= \"adam\" , metrics=[ \"accuracy\" ])\n",
    "score = loaded_model.evaluate(X, Y, verbose=0)\n",
    "print (\"%s: %.2f%%\" % (loaded_model.metrics_names[1], score[1]*100))"
   ]
  },
  {
   "cell_type": "code",
   "execution_count": null,
   "metadata": {},
   "outputs": [],
   "source": []
  }
 ],
 "metadata": {
  "kernelspec": {
   "display_name": "Python 3",
   "language": "python",
   "name": "python3"
  },
  "language_info": {
   "codemirror_mode": {
    "name": "ipython",
    "version": 3
   },
   "file_extension": ".py",
   "mimetype": "text/x-python",
   "name": "python",
   "nbconvert_exporter": "python",
   "pygments_lexer": "ipython3",
   "version": "3.8.2"
  }
 },
 "nbformat": 4,
 "nbformat_minor": 4
}
